{
  "nbformat": 4,
  "nbformat_minor": 0,
  "metadata": {
    "colab": {
      "provenance": [],
      "include_colab_link": true
    },
    "kernelspec": {
      "name": "python3",
      "display_name": "Python 3"
    },
    "language_info": {
      "name": "python"
    }
  },
  "cells": [
    {
      "cell_type": "markdown",
      "metadata": {
        "id": "view-in-github",
        "colab_type": "text"
      },
      "source": [
        "<a href=\"https://colab.research.google.com/github/ruu1004/DRDO/blob/main/One_Hot_encoding.ipynb\" target=\"_parent\"><img src=\"https://colab.research.google.com/assets/colab-badge.svg\" alt=\"Open In Colab\"/></a>"
      ]
    },
    {
      "cell_type": "code",
      "execution_count": 1,
      "metadata": {
        "colab": {
          "base_uri": "https://localhost:8080/",
          "height": 0
        },
        "id": "EsD2WLUvvZT1",
        "outputId": "3e5e6ecc-cacf-4f69-def0-42056b787002"
      },
      "outputs": [
        {
          "output_type": "stream",
          "name": "stdout",
          "text": [
            "{'dog': 1, 'eats': 2, 'meat': 3, 'man': 4}\n"
          ]
        }
      ],
      "source": [
        "corpus=['dog eats meat','man eats meat']\n",
        "vocab = {}\n",
        "count = 0\n",
        "for doc in corpus:\n",
        "  for word in doc.split():\n",
        "    if word not in vocab:\n",
        "      count = count+1\n",
        "      vocab[word] = count\n",
        "print(vocab)\n",
        "\n"
      ]
    },
    {
      "cell_type": "code",
      "source": [
        "l1 = [0]*4\n",
        "l1\n"
      ],
      "metadata": {
        "colab": {
          "base_uri": "https://localhost:8080/",
          "height": 0
        },
        "id": "MWafTYWAyIRv",
        "outputId": "c440f34f-6b59-4315-81dd-f383906411b6"
      },
      "execution_count": 2,
      "outputs": [
        {
          "output_type": "execute_result",
          "data": {
            "text/plain": [
              "[0, 0, 0, 0]"
            ]
          },
          "metadata": {},
          "execution_count": 2
        }
      ]
    },
    {
      "cell_type": "code",
      "source": [
        "l1[0] = 1 # indexing starts from zero\n",
        "l1"
      ],
      "metadata": {
        "colab": {
          "base_uri": "https://localhost:8080/",
          "height": 0
        },
        "id": "4DrFnLWYyQol",
        "outputId": "4a414957-c46f-478a-ccf0-fbd72fc9ec51"
      },
      "execution_count": 3,
      "outputs": [
        {
          "output_type": "execute_result",
          "data": {
            "text/plain": [
              "[1, 0, 0, 0]"
            ]
          },
          "metadata": {},
          "execution_count": 3
        }
      ]
    },
    {
      "cell_type": "code",
      "source": [
        "def one_hot(doc):\n",
        "  one_hot = []\n",
        "  for word in doc.split():\n",
        "    temp = [0]*len(vocab)\n",
        "    if word in vocab:\n",
        "      temp[vocab[word]-1] = 1\n",
        "    one_hot.append(temp)\n",
        "  return one_hot"
      ],
      "metadata": {
        "id": "ji5zyxYPxjyc"
      },
      "execution_count": 4,
      "outputs": []
    },
    {
      "cell_type": "code",
      "source": [
        "one_hot(\"dog eats meat\")"
      ],
      "metadata": {
        "colab": {
          "base_uri": "https://localhost:8080/",
          "height": 0
        },
        "id": "khEP7L05xsm2",
        "outputId": "5f79ea6f-c8cf-4fbf-88ac-024a85c506f3"
      },
      "execution_count": 5,
      "outputs": [
        {
          "output_type": "execute_result",
          "data": {
            "text/plain": [
              "[[1, 0, 0, 0], [0, 1, 0, 0], [0, 0, 1, 0]]"
            ]
          },
          "metadata": {},
          "execution_count": 5
        }
      ]
    },
    {
      "cell_type": "code",
      "source": [
        "import pandas as pd\n",
        "data = {'fruit': ['apple', 'banana', 'orange', 'grape'],\n",
        "        'color': ['red', 'yellow', 'orange', 'purple'],\n",
        "        'size': ['small', 'medium', 'large', 'small']}\n",
        "df = pd.DataFrame(data)\n",
        "df_encoded = pd.get_dummies(df, columns=['color', 'size'])\n",
        "print(df_encoded)"
      ],
      "metadata": {
        "id": "TYF11gkpyLtb",
        "outputId": "0d3192b0-bbe8-4096-bbc7-8579eb2ccb55",
        "colab": {
          "base_uri": "https://localhost:8080/"
        }
      },
      "execution_count": 6,
      "outputs": [
        {
          "output_type": "stream",
          "name": "stdout",
          "text": [
            "    fruit  color_orange  color_purple  color_red  color_yellow  size_large  \\\n",
            "0   apple             0             0          1             0           0   \n",
            "1  banana             0             0          0             1           0   \n",
            "2  orange             1             0          0             0           1   \n",
            "3   grape             0             1          0             0           0   \n",
            "\n",
            "   size_medium  size_small  \n",
            "0            0           1  \n",
            "1            1           0  \n",
            "2            0           0  \n",
            "3            0           1  \n"
          ]
        }
      ]
    }
  ]
}